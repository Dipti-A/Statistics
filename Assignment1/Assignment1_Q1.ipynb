{
 "cells": [
  {
   "cell_type": "code",
   "execution_count": 1,
   "metadata": {},
   "outputs": [],
   "source": [
    "import pandas as pd\n",
    "import matplotlib.pyplot as plt"
   ]
  },
  {
   "cell_type": "markdown",
   "metadata": {},
   "source": [
    "###  Question: a) Load the CSV file into Python. Use the Pandas function read_csv or use one of the techniques you learned in the course Introduction to Data Science. b) The second column in the CSV file represents the price of the property. Compute basic descriptive statistics about the prices in the whole dataset: mean, median, standard deviation, minimum, and maximum."
   ]
  },
  {
   "cell_type": "code",
   "execution_count": 30,
   "metadata": {},
   "outputs": [
    {
     "name": "stdout",
     "output_type": "stream",
     "text": [
      "Index([0, 'Price', 'Date', 3, 4, 5, 6, 7, 8, 9, 10, 11, 12, 'City', 14, 15], dtype='object')\n"
     ]
    },
    {
     "data": {
      "text/html": [
       "<div>\n",
       "<style scoped>\n",
       "    .dataframe tbody tr th:only-of-type {\n",
       "        vertical-align: middle;\n",
       "    }\n",
       "\n",
       "    .dataframe tbody tr th {\n",
       "        vertical-align: top;\n",
       "    }\n",
       "\n",
       "    .dataframe thead th {\n",
       "        text-align: right;\n",
       "    }\n",
       "</style>\n",
       "<table border=\"1\" class=\"dataframe\">\n",
       "  <thead>\n",
       "    <tr style=\"text-align: right;\">\n",
       "      <th></th>\n",
       "      <th>Price</th>\n",
       "    </tr>\n",
       "  </thead>\n",
       "  <tbody>\n",
       "    <tr>\n",
       "      <th>count</th>\n",
       "      <td>1.000000e+05</td>\n",
       "    </tr>\n",
       "    <tr>\n",
       "      <th>mean</th>\n",
       "      <td>1.743868e+05</td>\n",
       "    </tr>\n",
       "    <tr>\n",
       "      <th>std</th>\n",
       "      <td>3.514634e+05</td>\n",
       "    </tr>\n",
       "    <tr>\n",
       "      <th>min</th>\n",
       "      <td>1.500000e+02</td>\n",
       "    </tr>\n",
       "    <tr>\n",
       "      <th>25%</th>\n",
       "      <td>7.400000e+04</td>\n",
       "    </tr>\n",
       "    <tr>\n",
       "      <th>50%</th>\n",
       "      <td>1.290000e+05</td>\n",
       "    </tr>\n",
       "    <tr>\n",
       "      <th>75%</th>\n",
       "      <td>2.070000e+05</td>\n",
       "    </tr>\n",
       "    <tr>\n",
       "      <th>max</th>\n",
       "      <td>4.846572e+07</td>\n",
       "    </tr>\n",
       "  </tbody>\n",
       "</table>\n",
       "</div>"
      ],
      "text/plain": [
       "              Price\n",
       "count  1.000000e+05\n",
       "mean   1.743868e+05\n",
       "std    3.514634e+05\n",
       "min    1.500000e+02\n",
       "25%    7.400000e+04\n",
       "50%    1.290000e+05\n",
       "75%    2.070000e+05\n",
       "max    4.846572e+07"
      ]
     },
     "execution_count": 30,
     "metadata": {},
     "output_type": "execute_result"
    }
   ],
   "source": [
    "# Load the CSV file without header into Dataframe\n",
    "df = pd.read_csv(\"houses.csv\", header=None)\n",
    "\n",
    "df.rename(columns={1:'Price',2:'Date',13:'City'}, inplace=True)\n",
    "print(df.columns)\n",
    "\n",
    "# Compute basic descriptive statistics about the prices in the whole dataset:\n",
    "df.describe()\n"
   ]
  },
  {
   "cell_type": "markdown",
   "metadata": {},
   "source": [
    "### Plot a histogram that shows the distribution of the prices. "
   ]
  },
  {
   "cell_type": "code",
   "execution_count": 31,
   "metadata": {},
   "outputs": [
    {
     "data": {
      "text/plain": [
       "Text(0.5, 1.0, 'Property Price graph')"
      ]
     },
     "execution_count": 31,
     "metadata": {},
     "output_type": "execute_result"
    },
    {
     "data": {
      "image/png": "[encoded data removed]",
      "text/plain": [
       "<Figure size 432x288 with 1 Axes>"
      ]
     },
     "metadata": {
      "needs_background": "light"
     },
     "output_type": "display_data"
    }
   ],
   "source": [
    "#Plotting Price Vs their occurence\n",
    "\n",
    "df['Price'].hist(bins=5)\n",
    "plt.xlabel('Price', size=15)\n",
    "plt.ylabel('Frequency', size=15)\n",
    "plt.title('Property Price graph')\n"
   ]
  },
  {
   "cell_type": "markdown",
   "metadata": {},
   "source": [
    "### Question: Hint: why is it so ugly? What can you do to make it more informative? Explanation: As there is large variation in housing prices we are using log scale which is power of 10 to arrive at meaningful distribution. This discribution is close to uniform and skewed to the right due to very-few high valued properties. "
   ]
  },
  {
   "cell_type": "code",
   "execution_count": 32,
   "metadata": {},
   "outputs": [
    {
     "data": {
      "text/plain": [
       "Text(0.5, 1.0, 'Property Price graph')"
      ]
     },
     "execution_count": 32,
     "metadata": {},
     "output_type": "execute_result"
    },
    {
     "data": {
      "image/png": "[encoded data removed]",
      "text/plain": [
       "<Figure size 432x288 with 1 Axes>"
      ]
     },
     "metadata": {
      "needs_background": "light"
     },
     "output_type": "display_data"
    }
   ],
   "source": [
    "df['Price'].hist(bins=5,log=True)\n",
    "plt.xlabel('Price *10 million ', size=15)\n",
    "plt.ylabel('Frequency', size=15)\n",
    "plt.title('Property Price graph')\n"
   ]
  },
  {
   "cell_type": "markdown",
   "metadata": {},
   "source": [
    "### Question: Is real estate more expensive in London? Plot histograms for the two subsets of properties inside and outside London, respectively. For practical purposes, we can define \"inside London\" to mean that the string in the 14th column (Python indexing column 13) includes the string LONDON."
   ]
  },
  {
   "cell_type": "code",
   "execution_count": 33,
   "metadata": {},
   "outputs": [
    {
     "name": "stdout",
     "output_type": "stream",
     "text": [
      "Average price within London 302854.3655402896\n",
      "Average price outside London 154396.96471947766\n"
     ]
    }
   ],
   "source": [
    "#Check if the 'City' column contains string 'LONDON' to identify as  city within London\n",
    "londonprices = df[df['City'].str.contains(\"LONDON\")]\n",
    "\n",
    "print(\"Average price within London\", londonprices['Price'].mean())\n",
    "\n",
    "#Dropping the rows with City column containing 'London' to get the ones outside London\n",
    "outsidelondon= df.drop(df[df['City'].str.contains(\"LONDON\")].index) \n",
    "\n",
    "print(\"Average price outside London\", outsidelondon['Price'].mean())\n",
    "\n",
    "# Clearly prices are almost double within london city"
   ]
  },
  {
   "cell_type": "markdown",
   "metadata": {},
   "source": [
    "### Explanantion: We calculated the average housing prices within and outside london and found that average price within London(~0.3 million) is almost double than what it is outside london(~0.15 million)."
   ]
  },
  {
   "cell_type": "code",
   "execution_count": 43,
   "metadata": {},
   "outputs": [
    {
     "data": {
      "text/plain": [
       "Text(0.5, 1.0, 'House prices outside London')"
      ]
     },
     "execution_count": 43,
     "metadata": {},
     "output_type": "execute_result"
    },
    {
     "data": {
      "image/png": "[encoded data removed]",
      "text/plain": [
       "<Figure size 432x288 with 2 Axes>"
      ]
     },
     "metadata": {
      "needs_background": "light"
     },
     "output_type": "display_data"
    }
   ],
   "source": [
    "#Plot histograms for the two subsets of properties inside and outside London, respectively. \n",
    "\n",
    "x = londonprices['Price']\n",
    "y = outsidelondon['Price']\n",
    "\n",
    "fig, axs = plt.subplots(1, 2, sharey=True, sharex=True, tight_layout=True)\n",
    "# We can set the number of bins with the `bins` kwarg\n",
    "axs[0].hist(x, bins=5, log=True)\n",
    "axs[1].hist(y, bins=5, log=True)\n",
    "axs[0].set_xlabel('Price')\n",
    "axs[1].set_xlabel('Price')\n",
    "axs[0].set_ylabel('Frequency')\n",
    "axs[0].set_title('House prices inside London')\n",
    "axs[1].set_title('House prices outside London')\n",
    "\n",
    "#Need to change to sub-plots"
   ]
  },
  {
   "cell_type": "markdown",
   "metadata": {},
   "source": [
    "### Explanation: From these histograms we can say that within london ~10,000 individuals have houses worth 5 million whereas outside london more people i.e.~ 100,000 people have properties worth 5 million hence housing seems more affordable in outer london areas. "
   ]
  },
  {
   "cell_type": "markdown",
   "metadata": {},
   "source": [
    "### Optional task. Make a plot that shows the average price per year."
   ]
  },
  {
   "cell_type": "code",
   "execution_count": 10,
   "metadata": {},
   "outputs": [
    {
     "name": "stdout",
     "output_type": "stream",
     "text": [
      "Year\n",
      "1995     68598.007819\n",
      "1996     73166.260667\n",
      "1997     77312.525834\n",
      "1998     86292.724089\n",
      "1999     95750.068420\n",
      "2000    108670.098389\n",
      "2001    118457.438815\n",
      "2002    138073.433564\n",
      "2003    153495.870795\n",
      "2004    179574.213929\n",
      "2005    196889.114583\n",
      "2006    203369.584886\n",
      "2007    217002.664817\n",
      "2008    214767.533030\n",
      "2009    213933.692043\n",
      "2010    231462.194577\n",
      "2011    237038.550211\n",
      "2012    237101.674731\n",
      "2013    270223.826656\n",
      "2014    286850.159106\n",
      "2015    304840.865748\n",
      "2016    290684.339934\n",
      "Name: Price, dtype: float64\n"
     ]
    },
    {
     "data": {
      "text/plain": [
       "Text(0.5, 1.0, 'Average Property Price')"
      ]
     },
     "execution_count": 10,
     "metadata": {},
     "output_type": "execute_result"
    },
    {
     "data": {
      "image/png": "[encoded data removed]",
      "text/plain": [
       "<Figure size 432x288 with 1 Axes>"
      ]
     },
     "metadata": {
      "needs_background": "light"
     },
     "output_type": "display_data"
    }
   ],
   "source": [
    "# Creating a new column for extracting Year from Date column\n",
    "df['Date'] = pd.to_datetime(df.Date)\n",
    "df=df.assign(Year = df['Date'].dt.year)\n",
    "\n",
    "#Calculate average property price every year\n",
    "print (df.groupby('Year').Price.mean())\n",
    "\n",
    "#Plotting average property prices every year\n",
    "df.groupby('Year').Price.mean().plot(kind='bar', color ='green')\n",
    "plt.xlabel('Year', size=15)\n",
    "plt.ylabel('Average Price', size=15)\n",
    "plt.title('Average Property Price')"
   ]
  }
 ],
 "metadata": {
  "kernelspec": {
   "display_name": "Python 3",
   "language": "python",
   "name": "python3"
  },
  "language_info": {
   "codemirror_mode": {
    "name": "ipython",
    "version": 3
   },
   "file_extension": ".py",
   "mimetype": "text/x-python",
   "name": "python",
   "nbconvert_exporter": "python",
   "pygments_lexer": "ipython3",
   "version": "3.8.3"
  }
 },
 "nbformat": 4,
 "nbformat_minor": 4
}
