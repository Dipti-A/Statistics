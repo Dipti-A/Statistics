{
 "cells": [
  {
   "cell_type": "code",
   "execution_count": 1,
   "metadata": {},
   "outputs": [],
   "source": [
    "import pandas as pd\n",
    "import matplotlib.pyplot as plt\n",
    "from collections import Counter\n",
    "from collections import OrderedDict\n",
    "import numpy as np"
   ]
  },
  {
   "cell_type": "markdown",
   "metadata": {},
   "source": [
    "### 2(a) Identify the data types of these four columns and plot their distributions"
   ]
  },
  {
   "cell_type": "code",
   "execution_count": 2,
   "metadata": {},
   "outputs": [
    {
     "name": "stdout",
     "output_type": "stream",
     "text": [
      "<class 'pandas.core.frame.DataFrame'>\n",
      "RangeIndex: 891 entries, 0 to 890\n",
      "Data columns (total 4 columns):\n",
      " #   Column    Non-Null Count  Dtype  \n",
      "---  ------    --------------  -----  \n",
      " 0   Embarked  891 non-null    object \n",
      " 1   Fare      891 non-null    float64\n",
      " 2   Parch     891 non-null    int64  \n",
      " 3   Pclass    891 non-null    int64  \n",
      "dtypes: float64(1), int64(2), object(1)\n",
      "memory usage: 28.0+ KB\n"
     ]
    }
   ],
   "source": [
    "# Loading required columns from csv into the dataframe\n",
    "\n",
    "df=pd.read_csv(\"titanic_train.csv\", usecols=['Embarked','Pclass','Parch','Fare'])\n",
    "df.info()\n"
   ]
  },
  {
   "cell_type": "code",
   "execution_count": 3,
   "metadata": {},
   "outputs": [
    {
     "data": {
      "image/png": "[encoded data removed]",
      "text/plain": [
       "<Figure size 432x288 with 1 Axes>"
      ]
     },
     "metadata": {
      "needs_background": "light"
     },
     "output_type": "display_data"
    }
   ],
   "source": [
    "# Distribution for Pclass assumming this categorial data is Ordinal\n",
    "\n",
    "df.groupby('Pclass').size().plot.bar()\n",
    "plt.ylabel(\"Count\")\n",
    "plt.show()\n"
   ]
  },
  {
   "cell_type": "code",
   "execution_count": 4,
   "metadata": {},
   "outputs": [
    {
     "data": {
      "image/png": "[encoded data removed]",
      "text/plain": [
       "<Figure size 432x288 with 1 Axes>"
      ]
     },
     "metadata": {
      "needs_background": "light"
     },
     "output_type": "display_data"
    }
   ],
   "source": [
    "# Distribution for Embarked assuming this categorial data is Nominal\n",
    "\n",
    "df.groupby('Embarked').size().plot.bar()\n",
    "plt.ylabel(\"Count\")\n",
    "plt.show()"
   ]
  },
  {
   "cell_type": "code",
   "execution_count": 5,
   "metadata": {},
   "outputs": [
    {
     "data": {
      "image/png": "[encoded data removed]",
      "text/plain": [
       "<Figure size 432x288 with 1 Axes>"
      ]
     },
     "metadata": {
      "needs_background": "light"
     },
     "output_type": "display_data"
    }
   ],
   "source": [
    "#Distribution for Fare assumming this is continous numerical data\n",
    "\n",
    "plt.hist(df['Fare'], bins=5)\n",
    "plt.xlabel(\"Bins for Fare\")\n",
    "plt.ylabel(\"Count\")\n",
    "plt.show()"
   ]
  },
  {
   "cell_type": "code",
   "execution_count": 6,
   "metadata": {},
   "outputs": [
    {
     "data": {
      "image/png": "[encoded data removed]",
      "text/plain": [
       "<Figure size 432x288 with 1 Axes>"
      ]
     },
     "metadata": {
      "needs_background": "light"
     },
     "output_type": "display_data"
    }
   ],
   "source": [
    "#Distribution for Parch assuming this discrete numerical data\n",
    "\n",
    "plt.hist(df['Parch'], bins=5)\n",
    "plt.xlabel(\"Bins for Parch\")\n",
    "plt.ylabel(\"Count\")\n",
    "plt.show()"
   ]
  },
  {
   "cell_type": "markdown",
   "metadata": {},
   "source": [
    "### 2(b) Compute the histogram for Parch and Fare and report the results (the values of both x and y axes). Show that the histograms you have computed return the same value as np.histogram. Note: for continuous data, choose bins=20. "
   ]
  },
  {
   "cell_type": "code",
   "execution_count": 7,
   "metadata": {},
   "outputs": [
    {
     "name": "stdout",
     "output_type": "stream",
     "text": [
      "OrderedDict([(0, 678), (1, 118), (2, 80), (3, 5), (4, 4), (5, 5), (6, 1)])\n"
     ]
    }
   ],
   "source": [
    "# Calculating histogram values for Parch manually (without using np.histogram function)\n",
    "\n",
    "#Counting the occurence for every value of Parch\n",
    "counter = Counter(df['Parch'])\n",
    "\n",
    "#Sorting the dictionary\n",
    "dict1 = OrderedDict(sorted(counter.items()))\n",
    "print(dict1)\n"
   ]
  },
  {
   "cell_type": "code",
   "execution_count": 8,
   "metadata": {},
   "outputs": [
    {
     "name": "stdout",
     "output_type": "stream",
     "text": [
      "Hist value from np.histogram - [678 118  80   5   4   5   1]\n",
      "\n",
      "Parch Values calculated manually - [678 118  80   5   4   5   1]\n",
      "\n",
      "Assert if they are equal: True\n"
     ]
    }
   ],
   "source": [
    "# Calculating histogram values for Parch column using histogram function\n",
    "\n",
    "hist,bin_edges = np.histogram(df['Parch'],bins=['0','1','2','3','4','5','6','7'])\n",
    "print(\"Hist value from np.histogram -\",hist)\n",
    "#print(\"Bin Edges -\",bin_edges)\n",
    "\n",
    "# Converting dictionary to ndarray for comparison purposes\n",
    "val = np.array(list(dict1.values())) \n",
    "print(\"\\nParch Values calculated manually -\",val)\n",
    "\n",
    "#Asserting that the values calculated manually are same as the ones by np.hist function\n",
    "print(\"\\nAssert if they are equal:\",np.array_equal(val, hist))\n"
   ]
  },
  {
   "cell_type": "code",
   "execution_count": 207,
   "metadata": {},
   "outputs": [
    {
     "name": "stdout",
     "output_type": "stream",
     "text": [
      "(-0.512, 25.616]      562\n",
      "(25.616, 51.233]      170\n",
      "(51.233, 76.849]       67\n",
      "(76.849, 102.466]      39\n",
      "(102.466, 128.082]     15\n",
      "(128.082, 153.699]     16\n",
      "(153.699, 179.315]      2\n",
      "(179.315, 204.932]      0\n",
      "(204.932, 230.548]      9\n",
      "(230.548, 256.165]      2\n",
      "(256.165, 281.781]      6\n",
      "(281.781, 307.398]      0\n",
      "(307.398, 333.014]      0\n",
      "(333.014, 358.63]       0\n",
      "(358.63, 384.247]       0\n",
      "(384.247, 409.863]      0\n",
      "(409.863, 435.48]       0\n",
      "(435.48, 461.096]       0\n",
      "(461.096, 486.713]      0\n",
      "(486.713, 512.329]      3\n",
      "Name: Fare, dtype: int64\n"
     ]
    }
   ],
   "source": [
    "# Calculating histogram values for Fare manually ( without using np.histogram function)\n",
    "\n",
    "df_fare=df['Fare']\n",
    "df_fare = pd.cut(df['Fare'], bins=20)\n",
    "\n",
    "count=df_fare.value_counts(sort=False)\n",
    "print(count)\n"
   ]
  },
  {
   "cell_type": "code",
   "execution_count": 241,
   "metadata": {},
   "outputs": [
    {
     "name": "stdout",
     "output_type": "stream",
     "text": [
      "Hist value from np.histogram - [562 170  67  39  15  16   2   0   9   2   6   0   0   0   0   0   0   0\n",
      "   0   3]\n",
      "\n",
      "Fare values calculated manually - [562 170  67  39  15  16   2   0   9   2   6   0   0   0   0   0   0   0\n",
      "   0   3]\n",
      "\n",
      "Assert if they are equal: True\n"
     ]
    }
   ],
   "source": [
    "# Calculating histogram values for Fare column using np.histogram with bins=20\n",
    "\n",
    "hist_fare,bin_edges_fare = np.histogram(df['Fare'],bins=20)\n",
    "print(\"Hist value from np.histogram -\",hist_fare)\n",
    "#print(\"Bin Edges -\",bin_edges_fare)\n",
    "\n",
    "# Converting dictionary to ndarray for comparison purposes\n",
    "val_fare = np.array(list(count)) \n",
    "print(\"\\nFare values calculated manually -\",val_fare)\n",
    "\n",
    "#Asserting that the values calculated manually are same as the ones by np.hist function\n",
    "print(\"\\nAssert if they are equal:\",np.array_equal(val_fare, hist_fare))\n"
   ]
  },
  {
   "cell_type": "markdown",
   "metadata": {},
   "source": [
    "### 2(c) Compute the data quantiles of Fare for p = 0.2 and p=0.5. You cannot use any built-in quantile function to compute the quantiles. After you compute the quantiles, use the assert function to make sure that your values are the same as the values produced by np.quantile (Links to an external site.). "
   ]
  },
  {
   "cell_type": "code",
   "execution_count": 242,
   "metadata": {},
   "outputs": [
    {
     "name": "stdout",
     "output_type": "stream",
     "text": [
      "Fare calculated manually for p=0.2 is $ 7.8542 and for p=0.5 is $ 14.4542\n",
      "\n",
      "Fare calculated using np.quantile() function for p=0.2 is $ 7.8542 and for p=0.5 is $ 14.4542\n"
     ]
    }
   ],
   "source": [
    "#Initializing variables\n",
    "q1=0.2\n",
    "q2=0.5\n",
    "n=891\n",
    "\n",
    "try:\n",
    "    #Calculating quantiles manually for 0.2 and 0.5 and in case of non-integer values rounding off to the next integer\n",
    "    i1 = round(q1*(n+1))\n",
    "    #print(i1,\"th observation gives the fare for p=\",q1)\n",
    "\n",
    "    i2 = round(q2*(n+1))\n",
    "    #print(i2,\"th observation gives the fare for p=\",q2)\n",
    "\n",
    "    # Here i1 and i2 corresponds to the position of the required quantiles\n",
    "    # whereas fare1 and fare2 are their respective fares\n",
    "    fare1=df['Fare'].sort_values().iloc[i1]\n",
    "    fare2=df['Fare'].sort_values().iloc[i2]\n",
    "\n",
    "    print(\"Fare calculated manually for p=0.2 is $\",fare1,\"and for p=0.5 is $\",fare2)\n",
    "\n",
    "    qfare1=np.quantile(df['Fare'], q1)\n",
    "    qfare2=np.quantile(df['Fare'], q2)\n",
    "    print(\"\\nFare calculated using np.quantile() function for p=0.2 is $\",qfare1,\"and for p=0.5 is $\",qfare2)\n",
    "\n",
    "    assert fare1== qfare1,\"Fare calculated manually for p=0.2 doesn't match with quantile function\"\n",
    "    assert fare2== qfare2,\"Fare calculated manually for p=0.5 doesn't match with quantile function\"\n",
    "\n",
    "except AssertionError as emsg:\n",
    "    print(\"\\n\",emsg)"
   ]
  }
 ],
 "metadata": {
  "kernelspec": {
   "display_name": "Python 3",
   "language": "python",
   "name": "python3"
  },
  "language_info": {
   "codemirror_mode": {
    "name": "ipython",
    "version": 3
   },
   "file_extension": ".py",
   "mimetype": "text/x-python",
   "name": "python",
   "nbconvert_exporter": "python",
   "pygments_lexer": "ipython3",
   "version": "3.8.3"
  }
 },
 "nbformat": 4,
 "nbformat_minor": 4
}
