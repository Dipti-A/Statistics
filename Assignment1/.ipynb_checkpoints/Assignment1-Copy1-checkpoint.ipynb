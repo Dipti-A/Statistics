{
 "cells": [
  {
   "cell_type": "code",
   "execution_count": 96,
   "metadata": {},
   "outputs": [],
   "source": [
    "import pandas as pd\n",
    "import matplotlib.pyplot as plt"
   ]
  },
  {
   "cell_type": "code",
   "execution_count": 97,
   "metadata": {},
   "outputs": [
    {
     "data": {
      "text/html": [
       "<div>\n",
       "<style scoped>\n",
       "    .dataframe tbody tr th:only-of-type {\n",
       "        vertical-align: middle;\n",
       "    }\n",
       "\n",
       "    .dataframe tbody tr th {\n",
       "        vertical-align: top;\n",
       "    }\n",
       "\n",
       "    .dataframe thead th {\n",
       "        text-align: right;\n",
       "    }\n",
       "</style>\n",
       "<table border=\"1\" class=\"dataframe\">\n",
       "  <thead>\n",
       "    <tr style=\"text-align: right;\">\n",
       "      <th></th>\n",
       "      <th>Price</th>\n",
       "    </tr>\n",
       "  </thead>\n",
       "  <tbody>\n",
       "    <tr>\n",
       "      <th>count</th>\n",
       "      <td>9.999900e+04</td>\n",
       "    </tr>\n",
       "    <tr>\n",
       "      <th>mean</th>\n",
       "      <td>1.743880e+05</td>\n",
       "    </tr>\n",
       "    <tr>\n",
       "      <th>std</th>\n",
       "      <td>3.514649e+05</td>\n",
       "    </tr>\n",
       "    <tr>\n",
       "      <th>min</th>\n",
       "      <td>1.500000e+02</td>\n",
       "    </tr>\n",
       "    <tr>\n",
       "      <th>25%</th>\n",
       "      <td>7.400000e+04</td>\n",
       "    </tr>\n",
       "    <tr>\n",
       "      <th>50%</th>\n",
       "      <td>1.290000e+05</td>\n",
       "    </tr>\n",
       "    <tr>\n",
       "      <th>75%</th>\n",
       "      <td>2.070000e+05</td>\n",
       "    </tr>\n",
       "    <tr>\n",
       "      <th>max</th>\n",
       "      <td>4.846572e+07</td>\n",
       "    </tr>\n",
       "  </tbody>\n",
       "</table>\n",
       "</div>"
      ],
      "text/plain": [
       "              Price\n",
       "count  9.999900e+04\n",
       "mean   1.743880e+05\n",
       "std    3.514649e+05\n",
       "min    1.500000e+02\n",
       "25%    7.400000e+04\n",
       "50%    1.290000e+05\n",
       "75%    2.070000e+05\n",
       "max    4.846572e+07"
      ]
     },
     "execution_count": 97,
     "metadata": {},
     "output_type": "execute_result"
    }
   ],
   "source": [
    "# Load the CSV file into Python\n",
    "df = pd.read_csv(\"houses.csv\")\n",
    "\n",
    "df.columns=['A','Price','Date','D','E','F','G','H','I','J','K','L','M','City','O','P']\n",
    "#df.head()\n",
    "\n",
    "# Compute basic descriptive statistics about the prices in the whole dataset:\n",
    "df.describe()\n",
    "#df.info()"
   ]
  },
  {
   "cell_type": "code",
   "execution_count": 98,
   "metadata": {},
   "outputs": [
    {
     "data": {
      "text/plain": [
       "Text(0.5, 1.0, 'Property Price graph')"
      ]
     },
     "execution_count": 98,
     "metadata": {},
     "output_type": "execute_result"
    },
    {
     "data": {
      "image/png": "[encoded data removed]",
      "text/plain": [
       "<Figure size 432x288 with 1 Axes>"
      ]
     },
     "metadata": {
      "needs_background": "light"
     },
     "output_type": "display_data"
    }
   ],
   "source": [
    "# Plot a histogram that shows the distribution of the prices. \n",
    "# Hint: why is it so ugly? What can you do to make it more informative?\n",
    "\n",
    "# Using log scale as the price values are quite high\n",
    "df['Price'].hist(bins=20,log=True)\n",
    "plt.xlabel('Frequency', size=15)\n",
    "plt.ylabel('Price', size=15)\n",
    "plt.title('Property Price graph')\n"
   ]
  },
  {
   "cell_type": "code",
   "execution_count": 99,
   "metadata": {},
   "outputs": [
    {
     "name": "stdout",
     "output_type": "stream",
     "text": [
      "Average price within London 302854.3655402896\n",
      "Average price outside London 154398.14803429865\n"
     ]
    }
   ],
   "source": [
    "#Is real estate more expensive in London? \n",
    "\n",
    "londonprices = df[df['City'].str.contains(\"LONDON\")]\n",
    "#londonprices.head(10)\n",
    "#print(\"Number of Rows Within London\",londonprices.shape[0])\n",
    "\n",
    "print(\"Average price within London\", londonprices['Price'].mean())\n",
    "outsidelondon= df.drop(df[newdf['City'].str.contains(\"LONDON\")].index) \n",
    "#outsidelondon.head(10)\n",
    "\n",
    "print(\"Average price outside London\", outsidelondon['Price'].mean())\n",
    "#print(\"Number of Rows Outside London\",outsidelondon.shape[0])\n",
    "\n",
    "# Clearly prices are almost double in london"
   ]
  },
  {
   "cell_type": "code",
   "execution_count": 100,
   "metadata": {},
   "outputs": [
    {
     "data": {
      "text/plain": [
       "Text(0.5, 1.0, 'Property Price Trend outside London')"
      ]
     },
     "execution_count": 100,
     "metadata": {},
     "output_type": "execute_result"
    },
    {
     "data": {
      "image/png": "[encoded data removed]",
      "text/plain": [
       "<Figure size 432x288 with 1 Axes>"
      ]
     },
     "metadata": {
      "needs_background": "light"
     },
     "output_type": "display_data"
    },
    {
     "data": {
      "image/png": "[encoded data removed]",
      "text/plain": [
       "<Figure size 432x288 with 1 Axes>"
      ]
     },
     "metadata": {
      "needs_background": "light"
     },
     "output_type": "display_data"
    }
   ],
   "source": [
    "#Plot histograms for the two subsets of properties inside and outside London, respectively. \n",
    "\n",
    "londonprices.hist(bins=20,log=True)\n",
    "plt.xlabel('Frequency', size=15)\n",
    "plt.ylabel('Price', size=15)\n",
    "plt.title('Property Price Trend within London')\n",
    "\n",
    "outsidelondon.hist(bins=20,log=True)\n",
    "plt.xlabel('Frequency', size=15)\n",
    "plt.ylabel('Price', size=15)\n",
    "plt.title('Property Price Trend outside London')"
   ]
  },
  {
   "cell_type": "code",
   "execution_count": 102,
   "metadata": {},
   "outputs": [
    {
     "name": "stdout",
     "output_type": "stream",
     "text": [
      "Year\n",
      "1995     68598.007819\n",
      "1996     73166.260667\n",
      "1997     77312.525834\n",
      "1998     86292.724089\n",
      "1999     95750.068420\n",
      "2000    108670.098389\n",
      "2001    118469.091881\n",
      "2002    138073.433564\n",
      "2003    153495.870795\n",
      "2004    179574.213929\n",
      "2005    196889.114583\n",
      "2006    203369.584886\n",
      "2007    217002.664817\n",
      "2008    214767.533030\n",
      "2009    213933.692043\n",
      "2010    231462.194577\n",
      "2011    237038.550211\n",
      "2012    237101.674731\n",
      "2013    270223.826656\n",
      "2014    286850.159106\n",
      "2015    304840.865748\n",
      "2016    290684.339934\n",
      "Name: Price, dtype: float64\n"
     ]
    },
    {
     "data": {
      "text/plain": [
       "Text(0.5, 1.0, 'Average Property Price')"
      ]
     },
     "execution_count": 102,
     "metadata": {},
     "output_type": "execute_result"
    },
    {
     "data": {
      "image/png": "[encoded data removed]",
      "text/plain": [
       "<Figure size 432x288 with 1 Axes>"
      ]
     },
     "metadata": {
      "needs_background": "light"
     },
     "output_type": "display_data"
    }
   ],
   "source": [
    "# Optional task. Make a plot that shows the average price per year.\n",
    "\n",
    "# Creating a new column for extracting Year from Date column\n",
    "df['Date'] = pd.to_datetime(df.Date)\n",
    "df=df.assign(Year = df['Date'].dt.year)\n",
    "\n",
    "print (df.groupby('Year').Price.mean())\n",
    "df.groupby('Year').Price.mean().plot(kind='bar')\n",
    "plt.xlabel('Year', size=15)\n",
    "plt.ylabel('Average Price', size=15)\n",
    "plt.title('Average Property Price')"
   ]
  }
 ],
 "metadata": {
  "kernelspec": {
   "display_name": "Python 3",
   "language": "python",
   "name": "python3"
  },
  "language_info": {
   "codemirror_mode": {
    "name": "ipython",
    "version": 3
   },
   "file_extension": ".py",
   "mimetype": "text/x-python",
   "name": "python",
   "nbconvert_exporter": "python",
   "pygments_lexer": "ipython3",
   "version": "3.8.3"
  }
 },
 "nbformat": 4,
 "nbformat_minor": 4
}
