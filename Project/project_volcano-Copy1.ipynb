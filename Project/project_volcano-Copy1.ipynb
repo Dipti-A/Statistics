{
 "cells": [
  {
   "cell_type": "code",
   "execution_count": 157,
   "metadata": {},
   "outputs": [],
   "source": [
    "import pandas as pd\n",
    "import matplotlib.pyplot as plt\n",
    "from sklearn.model_selection import KFold\n",
    "import statsmodels.api as sm\n",
    "from scipy.stats import norm\n",
    "from scipy import stats\n",
    "import seaborn as sns\n",
    "import numpy as np"
   ]
  },
  {
   "cell_type": "code",
   "execution_count": 158,
   "metadata": {},
   "outputs": [],
   "source": [
    "# Splitting the data into n_splits=10 folds using Kfold\n",
    "\n",
    "def split_test_train(data):\n",
    "    #kf = KFold(n_splits = 10, shuffle = True, random_state = 1)\n",
    "    kf = KFold(n_splits = 3, shuffle = True, random_state = 1)\n",
    "\n",
    "    result = next(kf.split(df), None)\n",
    "    df_train = df.iloc[result[0]]\n",
    "    df_test = df.iloc[result[1]]\n",
    "    print(\"train data ->\", df_train )\n",
    "    print(\"test data ->\", df_test)\n",
    "    return df_train, df_test"
   ]
  },
  {
   "cell_type": "code",
   "execution_count": 159,
   "metadata": {
    "scrolled": true
   },
   "outputs": [
    {
     "data": {
      "text/html": [
       "<div>\n",
       "<style scoped>\n",
       "    .dataframe tbody tr th:only-of-type {\n",
       "        vertical-align: middle;\n",
       "    }\n",
       "\n",
       "    .dataframe tbody tr th {\n",
       "        vertical-align: top;\n",
       "    }\n",
       "\n",
       "    .dataframe thead th {\n",
       "        text-align: right;\n",
       "    }\n",
       "</style>\n",
       "<table border=\"1\" class=\"dataframe\">\n",
       "  <thead>\n",
       "    <tr style=\"text-align: right;\">\n",
       "      <th></th>\n",
       "      <th>segment_id</th>\n",
       "      <th>time_to_eruption</th>\n",
       "    </tr>\n",
       "  </thead>\n",
       "  <tbody>\n",
       "    <tr>\n",
       "      <th>0</th>\n",
       "      <td>1002575641</td>\n",
       "      <td>9924307</td>\n",
       "    </tr>\n",
       "    <tr>\n",
       "      <th>1</th>\n",
       "      <td>1001732002</td>\n",
       "      <td>20549733</td>\n",
       "    </tr>\n",
       "    <tr>\n",
       "      <th>2</th>\n",
       "      <td>1002624617</td>\n",
       "      <td>8004890</td>\n",
       "    </tr>\n",
       "    <tr>\n",
       "      <th>3</th>\n",
       "      <td>1000554676</td>\n",
       "      <td>6347792</td>\n",
       "    </tr>\n",
       "    <tr>\n",
       "      <th>4</th>\n",
       "      <td>1000015382</td>\n",
       "      <td>16258654</td>\n",
       "    </tr>\n",
       "  </tbody>\n",
       "</table>\n",
       "</div>"
      ],
      "text/plain": [
       "   segment_id  time_to_eruption\n",
       "0  1002575641           9924307\n",
       "1  1001732002          20549733\n",
       "2  1002624617           8004890\n",
       "3  1000554676           6347792\n",
       "4  1000015382          16258654"
      ]
     },
     "execution_count": 159,
     "metadata": {},
     "output_type": "execute_result"
    }
   ],
   "source": [
    "# DESCRIPTIVE ANALYSIS\n",
    "\n",
    "#Input Data:\n",
    "# Segment_id: ID code for the data segment. Matches the name of the associated data file.\n",
    "# time_to_eruption: The target value, the time until the next eruption.\n",
    "\n",
    "df = pd.read_csv(\"../../predict-volcanic-eruptions-ingv-oe/train.csv\")\n",
    "df.head()\n",
    "\n",
    "#Put a testing set aside and do not look at it before you test your model. Split the data into a training and a validation set. \n",
    "#df_train, df_test = split_test_train(df)\n",
    "#COMMENTING FOR NOW"
   ]
  },
  {
   "cell_type": "code",
   "execution_count": 320,
   "metadata": {},
   "outputs": [],
   "source": [
    "# Do they follow the same distribution? Use a Q-Q plot to show their relations.\n",
    "#sm.qqplot(df_test[\"time_to_eruption\"],fit=True, line=\"45\")\n",
    "#sm.qqplot(df_train[\"time_to_eruption\"],fit=True, line=\"45\")"
   ]
  },
  {
   "cell_type": "code",
   "execution_count": 321,
   "metadata": {},
   "outputs": [],
   "source": [
    "# Show the histogram of some selected variables and describe what you conclude.\n",
    "\n",
    "#fig = plt.hist(df_train[\"time_to_eruption\"], bins=100)\n",
    "#plt.xlabel('Time to eruption', size=15)\n",
    "#plt.ylabel('Frequency', size=15)\n",
    "\n",
    "# This distribution looks closer to Uniform"
   ]
  },
  {
   "cell_type": "code",
   "execution_count": 129,
   "metadata": {},
   "outputs": [
    {
     "data": {
      "text/html": [
       "<div>\n",
       "<style scoped>\n",
       "    .dataframe tbody tr th:only-of-type {\n",
       "        vertical-align: middle;\n",
       "    }\n",
       "\n",
       "    .dataframe tbody tr th {\n",
       "        vertical-align: top;\n",
       "    }\n",
       "\n",
       "    .dataframe thead th {\n",
       "        text-align: right;\n",
       "    }\n",
       "</style>\n",
       "<table border=\"1\" class=\"dataframe\">\n",
       "  <thead>\n",
       "    <tr style=\"text-align: right;\">\n",
       "      <th></th>\n",
       "      <th>segment_id</th>\n",
       "      <th>time_to_eruption</th>\n",
       "    </tr>\n",
       "  </thead>\n",
       "  <tbody>\n",
       "    <tr>\n",
       "      <th>count</th>\n",
       "      <td>6.000000e+00</td>\n",
       "      <td>6.000000e+00</td>\n",
       "    </tr>\n",
       "    <tr>\n",
       "      <th>mean</th>\n",
       "      <td>1.001834e+09</td>\n",
       "      <td>1.573835e+07</td>\n",
       "    </tr>\n",
       "    <tr>\n",
       "      <th>std</th>\n",
       "      <td>9.895560e+05</td>\n",
       "      <td>1.533094e+07</td>\n",
       "    </tr>\n",
       "    <tr>\n",
       "      <th>min</th>\n",
       "      <td>1.000555e+09</td>\n",
       "      <td>5.120693e+06</td>\n",
       "    </tr>\n",
       "    <tr>\n",
       "      <th>25%</th>\n",
       "      <td>1.000992e+09</td>\n",
       "      <td>6.656127e+06</td>\n",
       "    </tr>\n",
       "    <tr>\n",
       "      <th>50%</th>\n",
       "      <td>1.002154e+09</td>\n",
       "      <td>8.752719e+06</td>\n",
       "    </tr>\n",
       "    <tr>\n",
       "      <th>75%</th>\n",
       "      <td>1.002601e+09</td>\n",
       "      <td>1.789338e+07</td>\n",
       "    </tr>\n",
       "    <tr>\n",
       "      <th>max</th>\n",
       "      <td>1.002789e+09</td>\n",
       "      <td>4.490645e+07</td>\n",
       "    </tr>\n",
       "  </tbody>\n",
       "</table>\n",
       "</div>"
      ],
      "text/plain": [
       "         segment_id  time_to_eruption\n",
       "count  6.000000e+00      6.000000e+00\n",
       "mean   1.001834e+09      1.573835e+07\n",
       "std    9.895560e+05      1.533094e+07\n",
       "min    1.000555e+09      5.120693e+06\n",
       "25%    1.000992e+09      6.656127e+06\n",
       "50%    1.002154e+09      8.752719e+06\n",
       "75%    1.002601e+09      1.789338e+07\n",
       "max    1.002789e+09      4.490645e+07"
      ]
     },
     "execution_count": 129,
     "metadata": {},
     "output_type": "execute_result"
    }
   ],
   "source": [
    "# Describe the data using its range, sample mean, sample standard deviation and some quantiles.\n",
    "df_train.describe()"
   ]
  },
  {
   "cell_type": "code",
   "execution_count": 314,
   "metadata": {},
   "outputs": [
    {
     "data": {
      "text/html": [
       "<div>\n",
       "<style scoped>\n",
       "    .dataframe tbody tr th:only-of-type {\n",
       "        vertical-align: middle;\n",
       "    }\n",
       "\n",
       "    .dataframe tbody tr th {\n",
       "        vertical-align: top;\n",
       "    }\n",
       "\n",
       "    .dataframe thead th {\n",
       "        text-align: right;\n",
       "    }\n",
       "</style>\n",
       "<table border=\"1\" class=\"dataframe\">\n",
       "  <thead>\n",
       "    <tr style=\"text-align: right;\">\n",
       "      <th></th>\n",
       "      <th>segment_id</th>\n",
       "      <th>time_to_eruption</th>\n",
       "      <th>days_to_eruption</th>\n",
       "      <th>class</th>\n",
       "      <th>sensor_1_mean</th>\n",
       "      <th>sensor_2_mean</th>\n",
       "    </tr>\n",
       "  </thead>\n",
       "  <tbody>\n",
       "    <tr>\n",
       "      <th>0</th>\n",
       "      <td>1002575641</td>\n",
       "      <td>9924307</td>\n",
       "      <td>1.148647</td>\n",
       "      <td>B</td>\n",
       "      <td>1.660156</td>\n",
       "      <td>-0.765154</td>\n",
       "    </tr>\n",
       "    <tr>\n",
       "      <th>1</th>\n",
       "      <td>1001732002</td>\n",
       "      <td>20549733</td>\n",
       "      <td>2.378441</td>\n",
       "      <td>B</td>\n",
       "      <td>0.904102</td>\n",
       "      <td>-4.544324</td>\n",
       "    </tr>\n",
       "    <tr>\n",
       "      <th>2</th>\n",
       "      <td>1002624617</td>\n",
       "      <td>8004890</td>\n",
       "      <td>0.926492</td>\n",
       "      <td>A</td>\n",
       "      <td>3.318545</td>\n",
       "      <td>-10.278162</td>\n",
       "    </tr>\n",
       "    <tr>\n",
       "      <th>3</th>\n",
       "      <td>1000554676</td>\n",
       "      <td>6347792</td>\n",
       "      <td>0.734698</td>\n",
       "      <td>A</td>\n",
       "      <td>-3.828120</td>\n",
       "      <td>7.063966</td>\n",
       "    </tr>\n",
       "    <tr>\n",
       "      <th>4</th>\n",
       "      <td>1000015382</td>\n",
       "      <td>16258654</td>\n",
       "      <td>1.881789</td>\n",
       "      <td>B</td>\n",
       "      <td>0.382244</td>\n",
       "      <td>2.266563</td>\n",
       "    </tr>\n",
       "    <tr>\n",
       "      <th>5</th>\n",
       "      <td>1002789083</td>\n",
       "      <td>7581131</td>\n",
       "      <td>0.877446</td>\n",
       "      <td>A</td>\n",
       "      <td>3.518091</td>\n",
       "      <td>-1.719305</td>\n",
       "    </tr>\n",
       "    <tr>\n",
       "      <th>6</th>\n",
       "      <td>1001461087</td>\n",
       "      <td>10393161</td>\n",
       "      <td>1.202912</td>\n",
       "      <td>B</td>\n",
       "      <td>2.071582</td>\n",
       "      <td>1.194780</td>\n",
       "    </tr>\n",
       "    <tr>\n",
       "      <th>7</th>\n",
       "      <td>1000745424</td>\n",
       "      <td>5120693</td>\n",
       "      <td>0.592673</td>\n",
       "      <td>A</td>\n",
       "      <td>8.291928</td>\n",
       "      <td>-1.646423</td>\n",
       "    </tr>\n",
       "    <tr>\n",
       "      <th>8</th>\n",
       "      <td>1002609771</td>\n",
       "      <td>44906449</td>\n",
       "      <td>5.197506</td>\n",
       "      <td>B</td>\n",
       "      <td>-0.039533</td>\n",
       "      <td>-2.755154</td>\n",
       "    </tr>\n",
       "    <tr>\n",
       "      <th>9</th>\n",
       "      <td>1002275321</td>\n",
       "      <td>31353326</td>\n",
       "      <td>3.628857</td>\n",
       "      <td>B</td>\n",
       "      <td>-0.663439</td>\n",
       "      <td>0.000000</td>\n",
       "    </tr>\n",
       "  </tbody>\n",
       "</table>\n",
       "</div>"
      ],
      "text/plain": [
       "   segment_id  time_to_eruption  days_to_eruption class  sensor_1_mean  \\\n",
       "0  1002575641           9924307          1.148647     B       1.660156   \n",
       "1  1001732002          20549733          2.378441     B       0.904102   \n",
       "2  1002624617           8004890          0.926492     A       3.318545   \n",
       "3  1000554676           6347792          0.734698     A      -3.828120   \n",
       "4  1000015382          16258654          1.881789     B       0.382244   \n",
       "5  1002789083           7581131          0.877446     A       3.518091   \n",
       "6  1001461087          10393161          1.202912     B       2.071582   \n",
       "7  1000745424           5120693          0.592673     A       8.291928   \n",
       "8  1002609771          44906449          5.197506     B      -0.039533   \n",
       "9  1002275321          31353326          3.628857     B      -0.663439   \n",
       "\n",
       "   sensor_2_mean  \n",
       "0      -0.765154  \n",
       "1      -4.544324  \n",
       "2     -10.278162  \n",
       "3       7.063966  \n",
       "4       2.266563  \n",
       "5      -1.719305  \n",
       "6       1.194780  \n",
       "7      -1.646423  \n",
       "8      -2.755154  \n",
       "9       0.000000  "
      ]
     },
     "execution_count": 314,
     "metadata": {},
     "output_type": "execute_result"
    }
   ],
   "source": [
    "# Added new column to display days_to_eruption by converting time in centiseconds to days\n",
    "df['days_to_eruption']=df['time_to_eruption']/(100*60*60*24)\n",
    "df\n"
   ]
  },
  {
   "cell_type": "code",
   "execution_count": 161,
   "metadata": {
    "scrolled": false
   },
   "outputs": [
    {
     "data": {
      "text/html": [
       "<div>\n",
       "<style scoped>\n",
       "    .dataframe tbody tr th:only-of-type {\n",
       "        vertical-align: middle;\n",
       "    }\n",
       "\n",
       "    .dataframe tbody tr th {\n",
       "        vertical-align: top;\n",
       "    }\n",
       "\n",
       "    .dataframe thead th {\n",
       "        text-align: right;\n",
       "    }\n",
       "</style>\n",
       "<table border=\"1\" class=\"dataframe\">\n",
       "  <thead>\n",
       "    <tr style=\"text-align: right;\">\n",
       "      <th></th>\n",
       "      <th>segment_id</th>\n",
       "      <th>time_to_eruption</th>\n",
       "      <th>days_to_eruption</th>\n",
       "    </tr>\n",
       "  </thead>\n",
       "  <tbody>\n",
       "    <tr>\n",
       "      <th>2</th>\n",
       "      <td>1002624617</td>\n",
       "      <td>8004890</td>\n",
       "      <td>0.926492</td>\n",
       "    </tr>\n",
       "    <tr>\n",
       "      <th>3</th>\n",
       "      <td>1000554676</td>\n",
       "      <td>6347792</td>\n",
       "      <td>0.734698</td>\n",
       "    </tr>\n",
       "    <tr>\n",
       "      <th>5</th>\n",
       "      <td>1002789083</td>\n",
       "      <td>7581131</td>\n",
       "      <td>0.877446</td>\n",
       "    </tr>\n",
       "    <tr>\n",
       "      <th>7</th>\n",
       "      <td>1000745424</td>\n",
       "      <td>5120693</td>\n",
       "      <td>0.592673</td>\n",
       "    </tr>\n",
       "  </tbody>\n",
       "</table>\n",
       "</div>"
      ],
      "text/plain": [
       "   segment_id  time_to_eruption  days_to_eruption\n",
       "2  1002624617           8004890          0.926492\n",
       "3  1000554676           6347792          0.734698\n",
       "5  1002789083           7581131          0.877446\n",
       "7  1000745424           5120693          0.592673"
      ]
     },
     "execution_count": 161,
     "metadata": {},
     "output_type": "execute_result"
    }
   ],
   "source": [
    "# To check how many data points have days_to_eruption <=1\n",
    "df[df['days_to_eruption']<=1].head()"
   ]
  },
  {
   "cell_type": "code",
   "execution_count": 322,
   "metadata": {},
   "outputs": [
    {
     "data": {
      "text/html": [
       "<div>\n",
       "<style scoped>\n",
       "    .dataframe tbody tr th:only-of-type {\n",
       "        vertical-align: middle;\n",
       "    }\n",
       "\n",
       "    .dataframe tbody tr th {\n",
       "        vertical-align: top;\n",
       "    }\n",
       "\n",
       "    .dataframe thead th {\n",
       "        text-align: right;\n",
       "    }\n",
       "</style>\n",
       "<table border=\"1\" class=\"dataframe\">\n",
       "  <thead>\n",
       "    <tr style=\"text-align: right;\">\n",
       "      <th></th>\n",
       "      <th>segment_id</th>\n",
       "      <th>time_to_eruption</th>\n",
       "      <th>days_to_eruption</th>\n",
       "      <th>class</th>\n",
       "      <th>sensor_1_mean</th>\n",
       "      <th>sensor_2_mean</th>\n",
       "    </tr>\n",
       "  </thead>\n",
       "  <tbody>\n",
       "    <tr>\n",
       "      <th>0</th>\n",
       "      <td>1002575641</td>\n",
       "      <td>9924307</td>\n",
       "      <td>1.148647</td>\n",
       "      <td>B</td>\n",
       "      <td>1.660156</td>\n",
       "      <td>-0.765154</td>\n",
       "    </tr>\n",
       "    <tr>\n",
       "      <th>1</th>\n",
       "      <td>1001732002</td>\n",
       "      <td>20549733</td>\n",
       "      <td>2.378441</td>\n",
       "      <td>B</td>\n",
       "      <td>0.904102</td>\n",
       "      <td>-4.544324</td>\n",
       "    </tr>\n",
       "    <tr>\n",
       "      <th>4</th>\n",
       "      <td>1000015382</td>\n",
       "      <td>16258654</td>\n",
       "      <td>1.881789</td>\n",
       "      <td>B</td>\n",
       "      <td>0.382244</td>\n",
       "      <td>2.266563</td>\n",
       "    </tr>\n",
       "    <tr>\n",
       "      <th>6</th>\n",
       "      <td>1001461087</td>\n",
       "      <td>10393161</td>\n",
       "      <td>1.202912</td>\n",
       "      <td>B</td>\n",
       "      <td>2.071582</td>\n",
       "      <td>1.194780</td>\n",
       "    </tr>\n",
       "    <tr>\n",
       "      <th>8</th>\n",
       "      <td>1002609771</td>\n",
       "      <td>44906449</td>\n",
       "      <td>5.197506</td>\n",
       "      <td>B</td>\n",
       "      <td>-0.039533</td>\n",
       "      <td>-2.755154</td>\n",
       "    </tr>\n",
       "  </tbody>\n",
       "</table>\n",
       "</div>"
      ],
      "text/plain": [
       "   segment_id  time_to_eruption  days_to_eruption class  sensor_1_mean  \\\n",
       "0  1002575641           9924307          1.148647     B       1.660156   \n",
       "1  1001732002          20549733          2.378441     B       0.904102   \n",
       "4  1000015382          16258654          1.881789     B       0.382244   \n",
       "6  1001461087          10393161          1.202912     B       2.071582   \n",
       "8  1002609771          44906449          5.197506     B      -0.039533   \n",
       "\n",
       "   sensor_2_mean  \n",
       "0      -0.765154  \n",
       "1      -4.544324  \n",
       "4       2.266563  \n",
       "6       1.194780  \n",
       "8      -2.755154  "
      ]
     },
     "execution_count": 322,
     "metadata": {},
     "output_type": "execute_result"
    }
   ],
   "source": [
    "# To check how many data points have days_to_eruption >1\n",
    "df[df['days_to_eruption']>1].head()\n"
   ]
  },
  {
   "cell_type": "code",
   "execution_count": 323,
   "metadata": {},
   "outputs": [
    {
     "data": {
      "text/html": [
       "<div>\n",
       "<style scoped>\n",
       "    .dataframe tbody tr th:only-of-type {\n",
       "        vertical-align: middle;\n",
       "    }\n",
       "\n",
       "    .dataframe tbody tr th {\n",
       "        vertical-align: top;\n",
       "    }\n",
       "\n",
       "    .dataframe thead th {\n",
       "        text-align: right;\n",
       "    }\n",
       "</style>\n",
       "<table border=\"1\" class=\"dataframe\">\n",
       "  <thead>\n",
       "    <tr style=\"text-align: right;\">\n",
       "      <th></th>\n",
       "      <th>segment_id</th>\n",
       "      <th>time_to_eruption</th>\n",
       "      <th>days_to_eruption</th>\n",
       "      <th>class</th>\n",
       "      <th>sensor_1_mean</th>\n",
       "      <th>sensor_2_mean</th>\n",
       "    </tr>\n",
       "  </thead>\n",
       "  <tbody>\n",
       "    <tr>\n",
       "      <th>0</th>\n",
       "      <td>1002575641</td>\n",
       "      <td>9924307</td>\n",
       "      <td>1.148647</td>\n",
       "      <td>B</td>\n",
       "      <td>1.660156</td>\n",
       "      <td>-0.765154</td>\n",
       "    </tr>\n",
       "    <tr>\n",
       "      <th>1</th>\n",
       "      <td>1001732002</td>\n",
       "      <td>20549733</td>\n",
       "      <td>2.378441</td>\n",
       "      <td>B</td>\n",
       "      <td>0.904102</td>\n",
       "      <td>-4.544324</td>\n",
       "    </tr>\n",
       "    <tr>\n",
       "      <th>2</th>\n",
       "      <td>1002624617</td>\n",
       "      <td>8004890</td>\n",
       "      <td>0.926492</td>\n",
       "      <td>A</td>\n",
       "      <td>3.318545</td>\n",
       "      <td>-10.278162</td>\n",
       "    </tr>\n",
       "    <tr>\n",
       "      <th>3</th>\n",
       "      <td>1000554676</td>\n",
       "      <td>6347792</td>\n",
       "      <td>0.734698</td>\n",
       "      <td>A</td>\n",
       "      <td>-3.828120</td>\n",
       "      <td>7.063966</td>\n",
       "    </tr>\n",
       "    <tr>\n",
       "      <th>4</th>\n",
       "      <td>1000015382</td>\n",
       "      <td>16258654</td>\n",
       "      <td>1.881789</td>\n",
       "      <td>B</td>\n",
       "      <td>0.382244</td>\n",
       "      <td>2.266563</td>\n",
       "    </tr>\n",
       "    <tr>\n",
       "      <th>5</th>\n",
       "      <td>1002789083</td>\n",
       "      <td>7581131</td>\n",
       "      <td>0.877446</td>\n",
       "      <td>A</td>\n",
       "      <td>3.518091</td>\n",
       "      <td>-1.719305</td>\n",
       "    </tr>\n",
       "    <tr>\n",
       "      <th>6</th>\n",
       "      <td>1001461087</td>\n",
       "      <td>10393161</td>\n",
       "      <td>1.202912</td>\n",
       "      <td>B</td>\n",
       "      <td>2.071582</td>\n",
       "      <td>1.194780</td>\n",
       "    </tr>\n",
       "    <tr>\n",
       "      <th>7</th>\n",
       "      <td>1000745424</td>\n",
       "      <td>5120693</td>\n",
       "      <td>0.592673</td>\n",
       "      <td>A</td>\n",
       "      <td>8.291928</td>\n",
       "      <td>-1.646423</td>\n",
       "    </tr>\n",
       "    <tr>\n",
       "      <th>8</th>\n",
       "      <td>1002609771</td>\n",
       "      <td>44906449</td>\n",
       "      <td>5.197506</td>\n",
       "      <td>B</td>\n",
       "      <td>-0.039533</td>\n",
       "      <td>-2.755154</td>\n",
       "    </tr>\n",
       "    <tr>\n",
       "      <th>9</th>\n",
       "      <td>1002275321</td>\n",
       "      <td>31353326</td>\n",
       "      <td>3.628857</td>\n",
       "      <td>B</td>\n",
       "      <td>-0.663439</td>\n",
       "      <td>0.000000</td>\n",
       "    </tr>\n",
       "  </tbody>\n",
       "</table>\n",
       "</div>"
      ],
      "text/plain": [
       "   segment_id  time_to_eruption  days_to_eruption class  sensor_1_mean  \\\n",
       "0  1002575641           9924307          1.148647     B       1.660156   \n",
       "1  1001732002          20549733          2.378441     B       0.904102   \n",
       "2  1002624617           8004890          0.926492     A       3.318545   \n",
       "3  1000554676           6347792          0.734698     A      -3.828120   \n",
       "4  1000015382          16258654          1.881789     B       0.382244   \n",
       "5  1002789083           7581131          0.877446     A       3.518091   \n",
       "6  1001461087          10393161          1.202912     B       2.071582   \n",
       "7  1000745424           5120693          0.592673     A       8.291928   \n",
       "8  1002609771          44906449          5.197506     B      -0.039533   \n",
       "9  1002275321          31353326          3.628857     B      -0.663439   \n",
       "\n",
       "   sensor_2_mean  \n",
       "0      -0.765154  \n",
       "1      -4.544324  \n",
       "2     -10.278162  \n",
       "3       7.063966  \n",
       "4       2.266563  \n",
       "5      -1.719305  \n",
       "6       1.194780  \n",
       "7      -1.646423  \n",
       "8      -2.755154  \n",
       "9       0.000000  "
      ]
     },
     "execution_count": 323,
     "metadata": {},
     "output_type": "execute_result"
    }
   ],
   "source": [
    "# Create a new column to identify two classes based on the days of eruption\n",
    "# 'A' for days_to_eruption <=1\n",
    "# 'B' for days_to_eruption >1\n",
    "df['class']=df['days_to_eruption'].apply(lambda x: \"A\" if x <= 1 else \"B\" )\n",
    "df.head(10)\n"
   ]
  },
  {
   "cell_type": "code",
   "execution_count": 221,
   "metadata": {},
   "outputs": [],
   "source": [
    "# Using sensor_1_mean, sensor_2_mean from segment files\n",
    "index=0\n",
    "for seg_id in df['segment_id']:\n",
    "    df_seg_id = pd.read_csv(\"../../predict-volcanic-eruptions-ingv-oe/train/\"+str(int(seg_id))+\".csv\")\n",
    "    #print(seg_id, sensor_1_mean)\n",
    "    df.loc[index,'sensor_1_mean'] = df_seg_id['sensor_1'].mean(axis = 0)\n",
    "    df.loc[index,'sensor_2_mean'] = df_seg_id['sensor_2'].mean(axis = 0)\n",
    "    index+=1"
   ]
  },
  {
   "cell_type": "code",
   "execution_count": 293,
   "metadata": {},
   "outputs": [
    {
     "data": {
      "text/html": [
       "<div>\n",
       "<style scoped>\n",
       "    .dataframe tbody tr th:only-of-type {\n",
       "        vertical-align: middle;\n",
       "    }\n",
       "\n",
       "    .dataframe tbody tr th {\n",
       "        vertical-align: top;\n",
       "    }\n",
       "\n",
       "    .dataframe thead th {\n",
       "        text-align: right;\n",
       "    }\n",
       "</style>\n",
       "<table border=\"1\" class=\"dataframe\">\n",
       "  <thead>\n",
       "    <tr style=\"text-align: right;\">\n",
       "      <th></th>\n",
       "      <th>segment_id</th>\n",
       "      <th>time_to_eruption</th>\n",
       "      <th>days_to_eruption</th>\n",
       "      <th>class</th>\n",
       "      <th>sensor_1_mean</th>\n",
       "      <th>sensor_2_mean</th>\n",
       "    </tr>\n",
       "  </thead>\n",
       "  <tbody>\n",
       "    <tr>\n",
       "      <th>0</th>\n",
       "      <td>1002575641</td>\n",
       "      <td>9924307</td>\n",
       "      <td>1.148647</td>\n",
       "      <td>B</td>\n",
       "      <td>1.660156</td>\n",
       "      <td>-0.765154</td>\n",
       "    </tr>\n",
       "    <tr>\n",
       "      <th>1</th>\n",
       "      <td>1001732002</td>\n",
       "      <td>20549733</td>\n",
       "      <td>2.378441</td>\n",
       "      <td>B</td>\n",
       "      <td>0.904102</td>\n",
       "      <td>-4.544324</td>\n",
       "    </tr>\n",
       "    <tr>\n",
       "      <th>2</th>\n",
       "      <td>1002624617</td>\n",
       "      <td>8004890</td>\n",
       "      <td>0.926492</td>\n",
       "      <td>A</td>\n",
       "      <td>3.318545</td>\n",
       "      <td>-10.278162</td>\n",
       "    </tr>\n",
       "    <tr>\n",
       "      <th>3</th>\n",
       "      <td>1000554676</td>\n",
       "      <td>6347792</td>\n",
       "      <td>0.734698</td>\n",
       "      <td>A</td>\n",
       "      <td>-3.828120</td>\n",
       "      <td>7.063966</td>\n",
       "    </tr>\n",
       "    <tr>\n",
       "      <th>4</th>\n",
       "      <td>1000015382</td>\n",
       "      <td>16258654</td>\n",
       "      <td>1.881789</td>\n",
       "      <td>B</td>\n",
       "      <td>0.382244</td>\n",
       "      <td>2.266563</td>\n",
       "    </tr>\n",
       "    <tr>\n",
       "      <th>5</th>\n",
       "      <td>1002789083</td>\n",
       "      <td>7581131</td>\n",
       "      <td>0.877446</td>\n",
       "      <td>A</td>\n",
       "      <td>3.518091</td>\n",
       "      <td>-1.719305</td>\n",
       "    </tr>\n",
       "    <tr>\n",
       "      <th>6</th>\n",
       "      <td>1001461087</td>\n",
       "      <td>10393161</td>\n",
       "      <td>1.202912</td>\n",
       "      <td>B</td>\n",
       "      <td>2.071582</td>\n",
       "      <td>1.194780</td>\n",
       "    </tr>\n",
       "    <tr>\n",
       "      <th>7</th>\n",
       "      <td>1000745424</td>\n",
       "      <td>5120693</td>\n",
       "      <td>0.592673</td>\n",
       "      <td>A</td>\n",
       "      <td>8.291928</td>\n",
       "      <td>-1.646423</td>\n",
       "    </tr>\n",
       "    <tr>\n",
       "      <th>8</th>\n",
       "      <td>1002609771</td>\n",
       "      <td>44906449</td>\n",
       "      <td>5.197506</td>\n",
       "      <td>B</td>\n",
       "      <td>-0.039533</td>\n",
       "      <td>-2.755154</td>\n",
       "    </tr>\n",
       "    <tr>\n",
       "      <th>9</th>\n",
       "      <td>1002275321</td>\n",
       "      <td>31353326</td>\n",
       "      <td>3.628857</td>\n",
       "      <td>B</td>\n",
       "      <td>-0.663439</td>\n",
       "      <td>0.000000</td>\n",
       "    </tr>\n",
       "  </tbody>\n",
       "</table>\n",
       "</div>"
      ],
      "text/plain": [
       "   segment_id  time_to_eruption  days_to_eruption class  sensor_1_mean  \\\n",
       "0  1002575641           9924307          1.148647     B       1.660156   \n",
       "1  1001732002          20549733          2.378441     B       0.904102   \n",
       "2  1002624617           8004890          0.926492     A       3.318545   \n",
       "3  1000554676           6347792          0.734698     A      -3.828120   \n",
       "4  1000015382          16258654          1.881789     B       0.382244   \n",
       "5  1002789083           7581131          0.877446     A       3.518091   \n",
       "6  1001461087          10393161          1.202912     B       2.071582   \n",
       "7  1000745424           5120693          0.592673     A       8.291928   \n",
       "8  1002609771          44906449          5.197506     B      -0.039533   \n",
       "9  1002275321          31353326          3.628857     B      -0.663439   \n",
       "\n",
       "   sensor_2_mean  \n",
       "0      -0.765154  \n",
       "1      -4.544324  \n",
       "2     -10.278162  \n",
       "3       7.063966  \n",
       "4       2.266563  \n",
       "5      -1.719305  \n",
       "6       1.194780  \n",
       "7      -1.646423  \n",
       "8      -2.755154  \n",
       "9       0.000000  "
      ]
     },
     "execution_count": 293,
     "metadata": {},
     "output_type": "execute_result"
    }
   ],
   "source": [
    "df=df.fillna(0)\n",
    "df"
   ]
  },
  {
   "cell_type": "code",
   "execution_count": 264,
   "metadata": {},
   "outputs": [
    {
     "data": {
      "text/html": [
       "<div>\n",
       "<style scoped>\n",
       "    .dataframe tbody tr th:only-of-type {\n",
       "        vertical-align: middle;\n",
       "    }\n",
       "\n",
       "    .dataframe tbody tr th {\n",
       "        vertical-align: top;\n",
       "    }\n",
       "\n",
       "    .dataframe thead th {\n",
       "        text-align: right;\n",
       "    }\n",
       "</style>\n",
       "<table border=\"1\" class=\"dataframe\">\n",
       "  <thead>\n",
       "    <tr style=\"text-align: right;\">\n",
       "      <th></th>\n",
       "      <th>segment_id</th>\n",
       "      <th>time_to_eruption</th>\n",
       "      <th>days_to_eruption</th>\n",
       "      <th>class</th>\n",
       "      <th>sensor_1_mean</th>\n",
       "      <th>sensor_2_mean</th>\n",
       "    </tr>\n",
       "  </thead>\n",
       "  <tbody>\n",
       "    <tr>\n",
       "      <th>2</th>\n",
       "      <td>1002624617</td>\n",
       "      <td>8004890</td>\n",
       "      <td>0.926492</td>\n",
       "      <td>A</td>\n",
       "      <td>3.318545</td>\n",
       "      <td>-10.278162</td>\n",
       "    </tr>\n",
       "    <tr>\n",
       "      <th>3</th>\n",
       "      <td>1000554676</td>\n",
       "      <td>6347792</td>\n",
       "      <td>0.734698</td>\n",
       "      <td>A</td>\n",
       "      <td>-3.828120</td>\n",
       "      <td>7.063966</td>\n",
       "    </tr>\n",
       "    <tr>\n",
       "      <th>5</th>\n",
       "      <td>1002789083</td>\n",
       "      <td>7581131</td>\n",
       "      <td>0.877446</td>\n",
       "      <td>A</td>\n",
       "      <td>3.518091</td>\n",
       "      <td>-1.719305</td>\n",
       "    </tr>\n",
       "    <tr>\n",
       "      <th>7</th>\n",
       "      <td>1000745424</td>\n",
       "      <td>5120693</td>\n",
       "      <td>0.592673</td>\n",
       "      <td>A</td>\n",
       "      <td>8.291928</td>\n",
       "      <td>-1.646423</td>\n",
       "    </tr>\n",
       "  </tbody>\n",
       "</table>\n",
       "</div>"
      ],
      "text/plain": [
       "   segment_id  time_to_eruption  days_to_eruption class  sensor_1_mean  \\\n",
       "2  1002624617           8004890          0.926492     A       3.318545   \n",
       "3  1000554676           6347792          0.734698     A      -3.828120   \n",
       "5  1002789083           7581131          0.877446     A       3.518091   \n",
       "7  1000745424           5120693          0.592673     A       8.291928   \n",
       "\n",
       "   sensor_2_mean  \n",
       "2     -10.278162  \n",
       "3       7.063966  \n",
       "5      -1.719305  \n",
       "7      -1.646423  "
      ]
     },
     "execution_count": 264,
     "metadata": {},
     "output_type": "execute_result"
    }
   ],
   "source": [
    "# Seperating two classes into 2 dataframes\n",
    "df0 = df[df['class']=='A']\n",
    "df1 = df[df['class']=='B']\n",
    "df0.head(10)"
   ]
  },
  {
   "cell_type": "code",
   "execution_count": 265,
   "metadata": {},
   "outputs": [
    {
     "data": {
      "text/html": [
       "<div>\n",
       "<style scoped>\n",
       "    .dataframe tbody tr th:only-of-type {\n",
       "        vertical-align: middle;\n",
       "    }\n",
       "\n",
       "    .dataframe tbody tr th {\n",
       "        vertical-align: top;\n",
       "    }\n",
       "\n",
       "    .dataframe thead th {\n",
       "        text-align: right;\n",
       "    }\n",
       "</style>\n",
       "<table border=\"1\" class=\"dataframe\">\n",
       "  <thead>\n",
       "    <tr style=\"text-align: right;\">\n",
       "      <th></th>\n",
       "      <th>segment_id</th>\n",
       "      <th>time_to_eruption</th>\n",
       "      <th>days_to_eruption</th>\n",
       "      <th>class</th>\n",
       "      <th>sensor_1_mean</th>\n",
       "      <th>sensor_2_mean</th>\n",
       "    </tr>\n",
       "  </thead>\n",
       "  <tbody>\n",
       "    <tr>\n",
       "      <th>0</th>\n",
       "      <td>1002575641</td>\n",
       "      <td>9924307</td>\n",
       "      <td>1.148647</td>\n",
       "      <td>B</td>\n",
       "      <td>1.660156</td>\n",
       "      <td>-0.765154</td>\n",
       "    </tr>\n",
       "    <tr>\n",
       "      <th>1</th>\n",
       "      <td>1001732002</td>\n",
       "      <td>20549733</td>\n",
       "      <td>2.378441</td>\n",
       "      <td>B</td>\n",
       "      <td>0.904102</td>\n",
       "      <td>-4.544324</td>\n",
       "    </tr>\n",
       "    <tr>\n",
       "      <th>4</th>\n",
       "      <td>1000015382</td>\n",
       "      <td>16258654</td>\n",
       "      <td>1.881789</td>\n",
       "      <td>B</td>\n",
       "      <td>0.382244</td>\n",
       "      <td>2.266563</td>\n",
       "    </tr>\n",
       "    <tr>\n",
       "      <th>6</th>\n",
       "      <td>1001461087</td>\n",
       "      <td>10393161</td>\n",
       "      <td>1.202912</td>\n",
       "      <td>B</td>\n",
       "      <td>2.071582</td>\n",
       "      <td>1.194780</td>\n",
       "    </tr>\n",
       "    <tr>\n",
       "      <th>8</th>\n",
       "      <td>1002609771</td>\n",
       "      <td>44906449</td>\n",
       "      <td>5.197506</td>\n",
       "      <td>B</td>\n",
       "      <td>-0.039533</td>\n",
       "      <td>-2.755154</td>\n",
       "    </tr>\n",
       "    <tr>\n",
       "      <th>9</th>\n",
       "      <td>1002275321</td>\n",
       "      <td>31353326</td>\n",
       "      <td>3.628857</td>\n",
       "      <td>B</td>\n",
       "      <td>-0.663439</td>\n",
       "      <td>0.000000</td>\n",
       "    </tr>\n",
       "  </tbody>\n",
       "</table>\n",
       "</div>"
      ],
      "text/plain": [
       "   segment_id  time_to_eruption  days_to_eruption class  sensor_1_mean  \\\n",
       "0  1002575641           9924307          1.148647     B       1.660156   \n",
       "1  1001732002          20549733          2.378441     B       0.904102   \n",
       "4  1000015382          16258654          1.881789     B       0.382244   \n",
       "6  1001461087          10393161          1.202912     B       2.071582   \n",
       "8  1002609771          44906449          5.197506     B      -0.039533   \n",
       "9  1002275321          31353326          3.628857     B      -0.663439   \n",
       "\n",
       "   sensor_2_mean  \n",
       "0      -0.765154  \n",
       "1      -4.544324  \n",
       "4       2.266563  \n",
       "6       1.194780  \n",
       "8      -2.755154  \n",
       "9       0.000000  "
      ]
     },
     "execution_count": 265,
     "metadata": {},
     "output_type": "execute_result"
    }
   ],
   "source": [
    "df1.head(10)"
   ]
  },
  {
   "cell_type": "code",
   "execution_count": 300,
   "metadata": {},
   "outputs": [
    {
     "data": {
      "image/png": "[encoded data removed]",
      "text/plain": [
       "<Figure size 432x288 with 1 Axes>"
      ]
     },
     "metadata": {
      "needs_background": "light"
     },
     "output_type": "display_data"
    }
   ],
   "source": [
    "plt.scatter(df0['sensor_1_mean'],df0['sensor_2_mean'],color='blue',marker='+')\n",
    "plt.scatter(df1['sensor_1_mean'],df1['sensor_2_mean'],color='red',marker='.')\n",
    "plt.show()"
   ]
  },
  {
   "cell_type": "code",
   "execution_count": 294,
   "metadata": {},
   "outputs": [
    {
     "data": {
      "text/html": [
       "<div>\n",
       "<style scoped>\n",
       "    .dataframe tbody tr th:only-of-type {\n",
       "        vertical-align: middle;\n",
       "    }\n",
       "\n",
       "    .dataframe tbody tr th {\n",
       "        vertical-align: top;\n",
       "    }\n",
       "\n",
       "    .dataframe thead th {\n",
       "        text-align: right;\n",
       "    }\n",
       "</style>\n",
       "<table border=\"1\" class=\"dataframe\">\n",
       "  <thead>\n",
       "    <tr style=\"text-align: right;\">\n",
       "      <th></th>\n",
       "      <th>sensor_1_mean</th>\n",
       "      <th>sensor_2_mean</th>\n",
       "    </tr>\n",
       "  </thead>\n",
       "  <tbody>\n",
       "    <tr>\n",
       "      <th>0</th>\n",
       "      <td>1.660156</td>\n",
       "      <td>-0.765154</td>\n",
       "    </tr>\n",
       "    <tr>\n",
       "      <th>1</th>\n",
       "      <td>0.904102</td>\n",
       "      <td>-4.544324</td>\n",
       "    </tr>\n",
       "    <tr>\n",
       "      <th>2</th>\n",
       "      <td>3.318545</td>\n",
       "      <td>-10.278162</td>\n",
       "    </tr>\n",
       "    <tr>\n",
       "      <th>3</th>\n",
       "      <td>-3.828120</td>\n",
       "      <td>7.063966</td>\n",
       "    </tr>\n",
       "    <tr>\n",
       "      <th>4</th>\n",
       "      <td>0.382244</td>\n",
       "      <td>2.266563</td>\n",
       "    </tr>\n",
       "  </tbody>\n",
       "</table>\n",
       "</div>"
      ],
      "text/plain": [
       "   sensor_1_mean  sensor_2_mean\n",
       "0       1.660156      -0.765154\n",
       "1       0.904102      -4.544324\n",
       "2       3.318545     -10.278162\n",
       "3      -3.828120       7.063966\n",
       "4       0.382244       2.266563"
      ]
     },
     "execution_count": 294,
     "metadata": {},
     "output_type": "execute_result"
    }
   ],
   "source": [
    "from sklearn.model_selection import train_test_split\n",
    "\n",
    "X=df.drop(['segment_id','time_to_eruption','days_to_eruption','class'], axis='columns')\n",
    "X.head()"
   ]
  },
  {
   "cell_type": "code",
   "execution_count": 295,
   "metadata": {},
   "outputs": [
    {
     "data": {
      "text/plain": [
       "0    B\n",
       "1    B\n",
       "2    A\n",
       "3    A\n",
       "4    B\n",
       "5    A\n",
       "6    B\n",
       "7    A\n",
       "8    B\n",
       "9    B\n",
       "Name: class, dtype: object"
      ]
     },
     "execution_count": 295,
     "metadata": {},
     "output_type": "execute_result"
    }
   ],
   "source": [
    "y=df['class']\n",
    "y"
   ]
  },
  {
   "cell_type": "code",
   "execution_count": 315,
   "metadata": {},
   "outputs": [
    {
     "name": "stdout",
     "output_type": "stream",
     "text": [
      "8 2\n"
     ]
    }
   ],
   "source": [
    "X_train, X_test, y_train, y_test= train_test_split(X,y,test_size=0.2)\n",
    "print(len(X_train),len(X_test))"
   ]
  },
  {
   "cell_type": "code",
   "execution_count": 316,
   "metadata": {},
   "outputs": [],
   "source": [
    "from sklearn.svm import SVC\n",
    "model=SVC(C=100)"
   ]
  },
  {
   "cell_type": "code",
   "execution_count": 317,
   "metadata": {},
   "outputs": [
    {
     "data": {
      "text/plain": [
       "SVC(C=100)"
      ]
     },
     "execution_count": 317,
     "metadata": {},
     "output_type": "execute_result"
    }
   ],
   "source": [
    "model.fit(X_train,y_train)"
   ]
  },
  {
   "cell_type": "code",
   "execution_count": 318,
   "metadata": {},
   "outputs": [
    {
     "data": {
      "text/plain": [
       "1.0"
      ]
     },
     "execution_count": 318,
     "metadata": {},
     "output_type": "execute_result"
    }
   ],
   "source": [
    "model.score(X_test, y_test)"
   ]
  },
  {
   "cell_type": "code",
   "execution_count": null,
   "metadata": {},
   "outputs": [],
   "source": []
  },
  {
   "cell_type": "code",
   "execution_count": null,
   "metadata": {},
   "outputs": [],
   "source": []
  },
  {
   "cell_type": "code",
   "execution_count": null,
   "metadata": {},
   "outputs": [],
   "source": []
  },
  {
   "cell_type": "code",
   "execution_count": null,
   "metadata": {},
   "outputs": [],
   "source": []
  },
  {
   "cell_type": "code",
   "execution_count": null,
   "metadata": {},
   "outputs": [],
   "source": []
  },
  {
   "cell_type": "code",
   "execution_count": 312,
   "metadata": {},
   "outputs": [
    {
     "data": {
      "image/png": "[encoded data removed]",
      "text/plain": [
       "<Figure size 720x504 with 2 Axes>"
      ]
     },
     "metadata": {
      "needs_background": "light"
     },
     "output_type": "display_data"
    }
   ],
   "source": [
    "# Show the dependence of some selected variables and describe what you conclude.\n",
    "df_1 = pd.read_csv(\"../../predict-volcanic-eruptions-ingv-oe/train/1002575641.csv\")\n",
    "\n",
    "fig = plt.figure(figsize=(10,7))\n",
    "sns.heatmap(df_1.corr(),annot=True,fmt=\".2f\");\n",
    "\n",
    "# Observation: There is no correlation between the sensors"
   ]
  },
  {
   "cell_type": "code",
   "execution_count": 9,
   "metadata": {},
   "outputs": [
    {
     "data": {
      "image/png": "[encoded data removed]",
      "text/plain": [
       "<Figure size 432x288 with 1 Axes>"
      ]
     },
     "metadata": {
      "needs_background": "light"
     },
     "output_type": "display_data"
    }
   ],
   "source": [
    "# Mean sensor data for each row\n",
    "\n",
    "sensor_mean = df_1.mean(axis = 1) \n",
    "sm.qqplot(sensor_mean,fit=True, line=\"45\")\n",
    "plt.show()\n",
    "\n",
    "# As the QQ plot depicts straight line this appears to be normally distributed data"
   ]
  },
  {
   "cell_type": "code",
   "execution_count": 10,
   "metadata": {},
   "outputs": [
    {
     "name": "stdout",
     "output_type": "stream",
     "text": [
      "0         61.9\n",
      "1        123.9\n",
      "2        160.1\n",
      "3        144.6\n",
      "4        119.9\n",
      "         ...  \n",
      "59996    192.1\n",
      "59997    176.1\n",
      "59998    129.6\n",
      "59999     91.8\n",
      "60000     57.0\n",
      "Length: 60001, dtype: float64\n"
     ]
    }
   ],
   "source": [
    "# Explain how your analysis relates to the objective of your project, i.e. why are these selected variables important? \n",
    "print(sensor_mean)"
   ]
  },
  {
   "cell_type": "code",
   "execution_count": 11,
   "metadata": {},
   "outputs": [
    {
     "name": "stdout",
     "output_type": "stream",
     "text": [
      "Mean  0.576494465832972\n",
      "Median  0.6\n",
      "Std dev  89.22392572006876\n"
     ]
    },
    {
     "data": {
      "image/png": "[encoded data removed]",
      "text/plain": [
       "<Figure size 432x288 with 1 Axes>"
      ]
     },
     "metadata": {
      "needs_background": "light"
     },
     "output_type": "display_data"
    }
   ],
   "source": [
    "# Probability distribution: \n",
    "# Use probability distributions to describe some selected variables.\n",
    "# What are the parameters in the distribution? Estimate these parameters.\n",
    "\n",
    "ax=sns.distplot(sensor_mean, kde = False, color ='red', bins = 100)\n",
    "ax.set_xlabel(\"Signal\")\n",
    "ax.set_ylabel(\"Frequency\")\n",
    "ax.set_title(\"Signal distribution\");\n",
    "\n",
    "print(\"Mean \",sensor_mean.mean())\n",
    "print(\"Median \",sensor_mean.median())\n",
    "print(\"Std dev \", sensor_mean.std())\n",
    "\n",
    "# We can see that the Sensor_data looks very gaussian and balanced\n",
    "# The parameters are mean(mu) and std dev(sigma)\n",
    "# Below plot shows the signal at the median and mean around -6 and 0. \n"
   ]
  },
  {
   "cell_type": "code",
   "execution_count": null,
   "metadata": {},
   "outputs": [],
   "source": [
    "Trends between max of each sensor data and time_to_eruption.\n",
    "Trends between minimum of each sensor data and time_to_eruption.\n",
    "Trends between mean of each sensor data and time_to_eruption.\n",
    "Trends between variance of each sensor data and time_to_eruption.\n"
   ]
  },
  {
   "cell_type": "code",
   "execution_count": 313,
   "metadata": {
    "scrolled": true
   },
   "outputs": [
    {
     "name": "stdout",
     "output_type": "stream",
     "text": [
      "Each_sensor max:\n",
      " sensor_1      1893.0\n",
      "sensor_2     10216.0\n",
      "sensor_3      1928.0\n",
      "sensor_4      1898.0\n",
      "sensor_5      1475.0\n",
      "sensor_6      1060.0\n",
      "sensor_7      1840.0\n",
      "sensor_8      2642.0\n",
      "sensor_9      3040.0\n",
      "sensor_10     4768.0\n",
      "dtype: float64\n",
      "\n",
      "Each sensor min:\n",
      " sensor_1     -2176.0\n",
      "sensor_2    -11197.0\n",
      "sensor_3     -1826.0\n",
      "sensor_4     -1968.0\n",
      "sensor_5     -1536.0\n",
      "sensor_6     -1002.0\n",
      "sensor_7     -1346.0\n",
      "sensor_8     -2158.0\n",
      "sensor_9     -2448.0\n",
      "sensor_10    -4497.0\n",
      "dtype: float64\n",
      "time_to_eruption Series([], Name: time_to_eruption, dtype: int64)\n"
     ]
    },
    {
     "data": {
      "image/png": "[encoded data removed]",
      "text/plain": [
       "<Figure size 432x288 with 1 Axes>"
      ]
     },
     "metadata": {
      "needs_background": "light"
     },
     "output_type": "display_data"
    },
    {
     "data": {
      "text/html": [
       "<div>\n",
       "<style scoped>\n",
       "    .dataframe tbody tr th:only-of-type {\n",
       "        vertical-align: middle;\n",
       "    }\n",
       "\n",
       "    .dataframe tbody tr th {\n",
       "        vertical-align: top;\n",
       "    }\n",
       "\n",
       "    .dataframe thead th {\n",
       "        text-align: right;\n",
       "    }\n",
       "</style>\n",
       "<table border=\"1\" class=\"dataframe\">\n",
       "  <thead>\n",
       "    <tr style=\"text-align: right;\">\n",
       "      <th></th>\n",
       "      <th>Max_signal</th>\n",
       "      <th>Min_signal</th>\n",
       "    </tr>\n",
       "  </thead>\n",
       "  <tbody>\n",
       "    <tr>\n",
       "      <th>sensor_1</th>\n",
       "      <td>1893.0</td>\n",
       "      <td>-2176.0</td>\n",
       "    </tr>\n",
       "    <tr>\n",
       "      <th>sensor_2</th>\n",
       "      <td>10216.0</td>\n",
       "      <td>-11197.0</td>\n",
       "    </tr>\n",
       "    <tr>\n",
       "      <th>sensor_3</th>\n",
       "      <td>1928.0</td>\n",
       "      <td>-1826.0</td>\n",
       "    </tr>\n",
       "    <tr>\n",
       "      <th>sensor_4</th>\n",
       "      <td>1898.0</td>\n",
       "      <td>-1968.0</td>\n",
       "    </tr>\n",
       "    <tr>\n",
       "      <th>sensor_5</th>\n",
       "      <td>1475.0</td>\n",
       "      <td>-1536.0</td>\n",
       "    </tr>\n",
       "    <tr>\n",
       "      <th>sensor_6</th>\n",
       "      <td>1060.0</td>\n",
       "      <td>-1002.0</td>\n",
       "    </tr>\n",
       "    <tr>\n",
       "      <th>sensor_7</th>\n",
       "      <td>1840.0</td>\n",
       "      <td>-1346.0</td>\n",
       "    </tr>\n",
       "    <tr>\n",
       "      <th>sensor_8</th>\n",
       "      <td>2642.0</td>\n",
       "      <td>-2158.0</td>\n",
       "    </tr>\n",
       "    <tr>\n",
       "      <th>sensor_9</th>\n",
       "      <td>3040.0</td>\n",
       "      <td>-2448.0</td>\n",
       "    </tr>\n",
       "    <tr>\n",
       "      <th>sensor_10</th>\n",
       "      <td>4768.0</td>\n",
       "      <td>-4497.0</td>\n",
       "    </tr>\n",
       "  </tbody>\n",
       "</table>\n",
       "</div>"
      ],
      "text/plain": [
       "           Max_signal  Min_signal\n",
       "sensor_1       1893.0     -2176.0\n",
       "sensor_2      10216.0    -11197.0\n",
       "sensor_3       1928.0     -1826.0\n",
       "sensor_4       1898.0     -1968.0\n",
       "sensor_5       1475.0     -1536.0\n",
       "sensor_6       1060.0     -1002.0\n",
       "sensor_7       1840.0     -1346.0\n",
       "sensor_8       2642.0     -2158.0\n",
       "sensor_9       3040.0     -2448.0\n",
       "sensor_10      4768.0     -4497.0"
      ]
     },
     "execution_count": 313,
     "metadata": {},
     "output_type": "execute_result"
    }
   ],
   "source": [
    "# Mean sensor data for each sensor column\n",
    "df_1 = pd.read_csv(\"../../predict-volcanic-eruptions-ingv-oe/train/1002575641.csv\")\n",
    "each_sensor_max = df_1.max(axis = 0) \n",
    "\n",
    "each_sensor_min = df_1.min(axis = 0) \n",
    "print(\"Each_sensor max:\\n\",each_sensor_max)\n",
    "print(\"\\nEach sensor min:\\n\",each_sensor_min)\n",
    "\n",
    "#df_train.info()\n",
    "time_to_eruption = df_train.loc[df_train['segment_id']== 1000015382, 'time_to_eruption']\n",
    "#time_to_eruption = df_train.loc[df_train['segment_id']== 1000745424, 'time_to_eruption']\n",
    "print(\"time_to_eruption\",time_to_eruption)\n",
    "\n",
    "ax=sns.distplot(each_sensor_max, kde = False, color ='red', bins = 100)\n",
    "ax=sns.distplot(each_sensor_min, kde = False, color ='green', bins = 100)\n",
    "ax.set_xlabel(\"Signal\")\n",
    "ax.set_ylabel(\"Frequency\")\n",
    "ax.set_title(\"Min/Max Signal distribution\");\n",
    "plt.show()\n",
    "\n",
    "frame = { 'Max_signal': each_sensor_max, 'Min_signal': each_sensor_min } \n",
    "df_new=pd.DataFrame(frame)\n",
    "df_new.head(10)\n"
   ]
  },
  {
   "cell_type": "code",
   "execution_count": 13,
   "metadata": {
    "scrolled": true
   },
   "outputs": [
    {
     "data": {
      "image/png": "[encoded data removed]",
      "text/plain": [
       "<Figure size 432x288 with 1 Axes>"
      ]
     },
     "metadata": {
      "needs_background": "light"
     },
     "output_type": "display_data"
    }
   ],
   "source": [
    "\n",
    "plt.scatter(df_new['Max_signal'], df_new['Min_signal'])\n",
    "plt.xlabel('Max_signal')\n",
    "plt.ylabel('Min_signal')\n",
    "plt.gca().invert_yaxis()\n",
    "plt.show()\n",
    "\n"
   ]
  },
  {
   "cell_type": "code",
   "execution_count": 14,
   "metadata": {},
   "outputs": [
    {
     "data": {
      "image/png": "[encoded data removed]",
      "text/plain": [
       "<Figure size 432x288 with 1 Axes>"
      ]
     },
     "metadata": {
      "needs_background": "light"
     },
     "output_type": "display_data"
    }
   ],
   "source": [
    "\n",
    "df_new['time_to_eruption'] = \"1000745424\"\n",
    "df_new.head()\n",
    "\n",
    "plt.scatter(df_new['Max_signal'], df_new['time_to_eruption'])\n",
    "plt.scatter(df_new['Min_signal'], df_new['time_to_eruption'])\n",
    "plt.xlabel('Max_signal')\n",
    "plt.ylabel('time_to_eruption')\n",
    "plt.show()"
   ]
  },
  {
   "cell_type": "code",
   "execution_count": null,
   "metadata": {},
   "outputs": [],
   "source": []
  }
 ],
 "metadata": {
  "kernelspec": {
   "display_name": "Python 3",
   "language": "python",
   "name": "python3"
  },
  "language_info": {
   "codemirror_mode": {
    "name": "ipython",
    "version": 3
   },
   "file_extension": ".py",
   "mimetype": "text/x-python",
   "name": "python",
   "nbconvert_exporter": "python",
   "pygments_lexer": "ipython3",
   "version": "3.8.3"
  }
 },
 "nbformat": 4,
 "nbformat_minor": 4
}
