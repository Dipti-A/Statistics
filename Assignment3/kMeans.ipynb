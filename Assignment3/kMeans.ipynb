{
 "cells": [
  {
   "cell_type": "code",
   "execution_count": 99,
   "metadata": {},
   "outputs": [],
   "source": [
    "from sklearn.datasets import make_blobs\n",
    "import pandas as pd\n",
    "from matplotlib import pyplot\n",
    "import numpy as np\n",
    "#from random import random\n"
   ]
  },
  {
   "cell_type": "code",
   "execution_count": 100,
   "metadata": {},
   "outputs": [],
   "source": [
    "#Generating data set\n",
    "def generate_data(n_samples=100,random_state=0):\n",
    "    data, labels = make_blobs(n_samples=n_samples, n_features=2, random_state=RANDOM_STATE)\n",
    "    pyplot.scatter(data[:,0],data[:,1])\n",
    "    return data, labels\n",
    "\n",
    "def create_centroids(x):\n",
    "    #Step 2\n",
    "    #Create random centroids\n",
    "    c1 = np.random.randint(0,len(x))\n",
    "    c2 = np.random.randint(0,len(x))\n",
    "    c3 = np.random.randint(0,len(x))\n",
    "    print(\"Randomly generated points ->\",c1,c2,c3)\n",
    "    centroid = [x[c1], x[c2], x[c3]]\n",
    "    print(\"centroids ->\", centroids)\n",
    "    return centroids"
   ]
  },
  {
   "cell_type": "code",
   "execution_count": 102,
   "metadata": {},
   "outputs": [],
   "source": [
    "def k_means(x, K, n_init):   \n",
    "    # x: input data     \n",
    "    # K: number of centroids\n",
    "    # n_init: the number of initial guesses for the centroids\n",
    "    \n",
    "    return None"
   ]
  },
  {
   "cell_type": "code",
   "execution_count": 103,
   "metadata": {},
   "outputs": [],
   "source": [
    "\n",
    "\n",
    "def plot(x):\n",
    "    #Choose random centroids\n",
    "    #centroids = np.array([[-1,-2],[2,4],[4,3]])\n",
    "    pyplot.scatter(centers[:,0], centers[:,1], marker=\"X\",color='red')\n",
    "    pyplot.show()\n"
   ]
  },
  {
   "cell_type": "code",
   "execution_count": 105,
   "metadata": {},
   "outputs": [
    {
     "name": "stdout",
     "output_type": "stream",
     "text": [
      "Randomly generated points -> 11 88 69\n",
      "centroids -> [[-1 -2]\n",
      " [ 2  4]\n",
      " [ 4  3]]\n"
     ]
    },
    {
     "data": {
      "image/png": "[encoded data removed]",
      "text/plain": [
       "<Figure size 432x288 with 1 Axes>"
      ]
     },
     "metadata": {
      "needs_background": "light"
     },
     "output_type": "display_data"
    }
   ],
   "source": [
    "x_data, labels = generate_data()\n",
    "#n_init_centroids = np.array([[-1,-2],[2,4],[4,3]])\n",
    "n_init_centroids = create_centroids(x_data)\n",
    "#centroids, labels=k_means(x=x_data, K=3, n_init=n_init_centroids )\n",
    "plot(x=x_data)"
   ]
  }
 ],
 "metadata": {
  "kernelspec": {
   "display_name": "Python 3",
   "language": "python",
   "name": "python3"
  },
  "language_info": {
   "codemirror_mode": {
    "name": "ipython",
    "version": 3
   },
   "file_extension": ".py",
   "mimetype": "text/x-python",
   "name": "python",
   "nbconvert_exporter": "python",
   "pygments_lexer": "ipython3",
   "version": "3.8.3"
  }
 },
 "nbformat": 4,
 "nbformat_minor": 4
}
